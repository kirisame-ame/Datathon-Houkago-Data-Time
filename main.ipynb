{
 "cells": [
  {
   "cell_type": "markdown",
   "id": "1dc9af39",
   "metadata": {},
   "source": [
    "# Notebook"
   ]
  },
  {
   "cell_type": "code",
   "execution_count": 71,
   "id": "f0c57028",
   "metadata": {},
   "outputs": [],
   "source": [
    "import pandas as pd\n",
    "import numpy as np\n",
    "import os"
   ]
  },
  {
   "cell_type": "markdown",
   "id": "a98bdc30",
   "metadata": {},
   "source": [
    "## Data import"
   ]
  },
  {
   "cell_type": "code",
   "execution_count": 72,
   "id": "60782345",
   "metadata": {},
   "outputs": [],
   "source": [
    "dataset = pd.read_csv('indonesian_chat.csv')"
   ]
  },
  {
   "cell_type": "code",
   "execution_count": 73,
   "id": "87cfd510",
   "metadata": {},
   "outputs": [
    {
     "data": {
      "application/vnd.microsoft.datawrangler.viewer.v0+json": {
       "columns": [
        {
         "name": "index",
         "rawType": "int64",
         "type": "integer"
        },
        {
         "name": "id",
         "rawType": "int64",
         "type": "integer"
        },
        {
         "name": "chat",
         "rawType": "object",
         "type": "string"
        },
        {
         "name": "label",
         "rawType": "object",
         "type": "string"
        }
       ],
       "ref": "cf38ae2d-b5c1-4fd0-8189-3d1d85cafd9b",
       "rows": [
        [
         "0",
         "1",
         "main mu kek tai cok",
         "violence"
        ],
        [
         "1",
         "2",
         "user telat ngasih tau elu edan sarap gue bergaul elu",
         "violence"
        ],
        [
         "2",
         "3",
         "kadang berfikir percaya tuhan jatuh berkalikali kadang tuhan ninggalkan orangtuaku berencana berpisah kakakku memilih kristen",
         "neutral"
        ],
        [
         "3",
         "4",
         "user user aku\\n\\nku tau matamu sipit diliat",
         "racist"
        ],
        [
         "4",
         "5",
         "capek deh ketemu kaum cina kapir gini match",
         "racist"
        ]
       ],
       "shape": {
        "columns": 3,
        "rows": 5
       }
      },
      "text/html": [
       "<div>\n",
       "<style scoped>\n",
       "    .dataframe tbody tr th:only-of-type {\n",
       "        vertical-align: middle;\n",
       "    }\n",
       "\n",
       "    .dataframe tbody tr th {\n",
       "        vertical-align: top;\n",
       "    }\n",
       "\n",
       "    .dataframe thead th {\n",
       "        text-align: right;\n",
       "    }\n",
       "</style>\n",
       "<table border=\"1\" class=\"dataframe\">\n",
       "  <thead>\n",
       "    <tr style=\"text-align: right;\">\n",
       "      <th></th>\n",
       "      <th>id</th>\n",
       "      <th>chat</th>\n",
       "      <th>label</th>\n",
       "    </tr>\n",
       "  </thead>\n",
       "  <tbody>\n",
       "    <tr>\n",
       "      <th>0</th>\n",
       "      <td>1</td>\n",
       "      <td>main mu kek tai cok</td>\n",
       "      <td>violence</td>\n",
       "    </tr>\n",
       "    <tr>\n",
       "      <th>1</th>\n",
       "      <td>2</td>\n",
       "      <td>user telat ngasih tau elu edan sarap gue berga...</td>\n",
       "      <td>violence</td>\n",
       "    </tr>\n",
       "    <tr>\n",
       "      <th>2</th>\n",
       "      <td>3</td>\n",
       "      <td>kadang berfikir percaya tuhan jatuh berkalikal...</td>\n",
       "      <td>neutral</td>\n",
       "    </tr>\n",
       "    <tr>\n",
       "      <th>3</th>\n",
       "      <td>4</td>\n",
       "      <td>user user aku\\n\\nku tau matamu sipit diliat</td>\n",
       "      <td>racist</td>\n",
       "    </tr>\n",
       "    <tr>\n",
       "      <th>4</th>\n",
       "      <td>5</td>\n",
       "      <td>capek deh ketemu kaum cina kapir gini match</td>\n",
       "      <td>racist</td>\n",
       "    </tr>\n",
       "  </tbody>\n",
       "</table>\n",
       "</div>"
      ],
      "text/plain": [
       "   id                                               chat     label\n",
       "0   1                                main mu kek tai cok  violence\n",
       "1   2  user telat ngasih tau elu edan sarap gue berga...  violence\n",
       "2   3  kadang berfikir percaya tuhan jatuh berkalikal...   neutral\n",
       "3   4        user user aku\\n\\nku tau matamu sipit diliat    racist\n",
       "4   5        capek deh ketemu kaum cina kapir gini match    racist"
      ]
     },
     "execution_count": 73,
     "metadata": {},
     "output_type": "execute_result"
    }
   ],
   "source": [
    "dataset.head()"
   ]
  },
  {
   "cell_type": "code",
   "execution_count": 74,
   "id": "019fb1a7",
   "metadata": {},
   "outputs": [
    {
     "name": "stdout",
     "output_type": "stream",
     "text": [
      "<class 'pandas.core.frame.DataFrame'>\n",
      "RangeIndex: 10702 entries, 0 to 10701\n",
      "Data columns (total 3 columns):\n",
      " #   Column  Non-Null Count  Dtype \n",
      "---  ------  --------------  ----- \n",
      " 0   id      10702 non-null  int64 \n",
      " 1   chat    10702 non-null  object\n",
      " 2   label   10702 non-null  object\n",
      "dtypes: int64(1), object(2)\n",
      "memory usage: 251.0+ KB\n"
     ]
    }
   ],
   "source": [
    "dataset.info()"
   ]
  },
  {
   "cell_type": "markdown",
   "id": "155d5b2d",
   "metadata": {},
   "source": [
    "## Data Cleaning (WIP)"
   ]
  },
  {
   "cell_type": "code",
   "execution_count": 75,
   "id": "142dda5b",
   "metadata": {},
   "outputs": [],
   "source": [
    "dataset.drop(\"id\", axis=1, inplace=True)"
   ]
  },
  {
   "cell_type": "markdown",
   "id": "dc996261",
   "metadata": {},
   "source": [
    "# Label Encode Target"
   ]
  },
  {
   "cell_type": "code",
   "execution_count": 76,
   "id": "25178f1a",
   "metadata": {},
   "outputs": [],
   "source": [
    "from sklearn.preprocessing import LabelEncoder"
   ]
  },
  {
   "cell_type": "code",
   "execution_count": 77,
   "id": "c721973f",
   "metadata": {},
   "outputs": [],
   "source": [
    "le = LabelEncoder()\n",
    "dataset['labels'] = le.fit_transform(dataset['label'])\n",
    "dataset.drop(\"label\", axis=1, inplace=True)"
   ]
  },
  {
   "cell_type": "markdown",
   "id": "2db8a696",
   "metadata": {},
   "source": [
    "regex stuff"
   ]
  },
  {
   "cell_type": "markdown",
   "id": "6f68d4d6",
   "metadata": {},
   "source": [
    "## BERT Import"
   ]
  },
  {
   "cell_type": "code",
   "execution_count": 78,
   "id": "da663617",
   "metadata": {},
   "outputs": [],
   "source": [
    "from transformers import AutoTokenizer, AutoModelForSequenceClassification"
   ]
  },
  {
   "cell_type": "code",
   "execution_count": 79,
   "id": "c9164c58",
   "metadata": {},
   "outputs": [
    {
     "name": "stderr",
     "output_type": "stream",
     "text": [
      "Some weights of BertForSequenceClassification were not initialized from the model checkpoint at indolem/indobert-base-uncased and are newly initialized: ['classifier.bias', 'classifier.weight']\n",
      "You should probably TRAIN this model on a down-stream task to be able to use it for predictions and inference.\n"
     ]
    }
   ],
   "source": [
    "tokenizer = AutoTokenizer.from_pretrained(\"indolem/indobert-base-uncased\")\n",
    "model = AutoModelForSequenceClassification.from_pretrained(\"indolem/indobert-base-uncased\",num_labels=len(le.classes_))  # Number of unique labels"
   ]
  },
  {
   "cell_type": "markdown",
   "id": "913856d6",
   "metadata": {},
   "source": [
    "## Preproc"
   ]
  },
  {
   "cell_type": "code",
   "execution_count": 80,
   "id": "1ee8d736",
   "metadata": {},
   "outputs": [],
   "source": [
    "from sklearn.model_selection import train_test_split"
   ]
  },
  {
   "cell_type": "code",
   "execution_count": 81,
   "id": "9581ab19",
   "metadata": {},
   "outputs": [],
   "source": [
    "df_train, df_test = train_test_split(dataset, test_size=0.2, random_state=42)"
   ]
  },
  {
   "cell_type": "code",
   "execution_count": 82,
   "id": "f3f4f661",
   "metadata": {},
   "outputs": [
    {
     "data": {
      "text/plain": [
       "(17122, 4282)"
      ]
     },
     "execution_count": 82,
     "metadata": {},
     "output_type": "execute_result"
    }
   ],
   "source": [
    "df_train.size, df_test.size"
   ]
  },
  {
   "cell_type": "code",
   "execution_count": 83,
   "id": "00966a67",
   "metadata": {},
   "outputs": [
    {
     "data": {
      "application/vnd.microsoft.datawrangler.viewer.v0+json": {
       "columns": [
        {
         "name": "index",
         "rawType": "int64",
         "type": "integer"
        },
        {
         "name": "chat",
         "rawType": "object",
         "type": "string"
        },
        {
         "name": "labels",
         "rawType": "int32",
         "type": "integer"
        }
       ],
       "ref": "447e3856-c459-42ff-8f57-8aa427ba4ff5",
       "rows": [
        [
         "2312",
         "15 terimakasih selamat jalan ila jiwari robbihimul ala jalla wa alaa ra lilur ulama cinta dunia bahaya bahaya dawuh beliau dawuh2 yg kadang pelajaran berharga lahul fatihah ð¥ð¥ð¥",
         "1"
        ],
        [
         "2516",
         "askmf sedih gaksi orang2 ngeledekin doi gitu najis bocah",
         "3"
        ],
        [
         "3467",
         "ape beneeeer dapet jadwal shift pagi 4 besok off lusa shift malam sabtu badan cungkring ampuuuun zzzzzz",
         "1"
        ],
        [
         "8573",
         "pantes yatim gak ngewe bareng loe",
         "0"
        ],
        [
         "9814",
         "congor nya kaum sumbu pendek",
         "2"
        ]
       ],
       "shape": {
        "columns": 2,
        "rows": 5
       }
      },
      "text/html": [
       "<div>\n",
       "<style scoped>\n",
       "    .dataframe tbody tr th:only-of-type {\n",
       "        vertical-align: middle;\n",
       "    }\n",
       "\n",
       "    .dataframe tbody tr th {\n",
       "        vertical-align: top;\n",
       "    }\n",
       "\n",
       "    .dataframe thead th {\n",
       "        text-align: right;\n",
       "    }\n",
       "</style>\n",
       "<table border=\"1\" class=\"dataframe\">\n",
       "  <thead>\n",
       "    <tr style=\"text-align: right;\">\n",
       "      <th></th>\n",
       "      <th>chat</th>\n",
       "      <th>labels</th>\n",
       "    </tr>\n",
       "  </thead>\n",
       "  <tbody>\n",
       "    <tr>\n",
       "      <th>2312</th>\n",
       "      <td>15 terimakasih selamat jalan ila jiwari robbih...</td>\n",
       "      <td>1</td>\n",
       "    </tr>\n",
       "    <tr>\n",
       "      <th>2516</th>\n",
       "      <td>askmf sedih gaksi orang2 ngeledekin doi gitu n...</td>\n",
       "      <td>3</td>\n",
       "    </tr>\n",
       "    <tr>\n",
       "      <th>3467</th>\n",
       "      <td>ape beneeeer dapet jadwal shift pagi 4 besok o...</td>\n",
       "      <td>1</td>\n",
       "    </tr>\n",
       "    <tr>\n",
       "      <th>8573</th>\n",
       "      <td>pantes yatim gak ngewe bareng loe</td>\n",
       "      <td>0</td>\n",
       "    </tr>\n",
       "    <tr>\n",
       "      <th>9814</th>\n",
       "      <td>congor nya kaum sumbu pendek</td>\n",
       "      <td>2</td>\n",
       "    </tr>\n",
       "  </tbody>\n",
       "</table>\n",
       "</div>"
      ],
      "text/plain": [
       "                                                   chat  labels\n",
       "2312  15 terimakasih selamat jalan ila jiwari robbih...       1\n",
       "2516  askmf sedih gaksi orang2 ngeledekin doi gitu n...       3\n",
       "3467  ape beneeeer dapet jadwal shift pagi 4 besok o...       1\n",
       "8573                  pantes yatim gak ngewe bareng loe       0\n",
       "9814                       congor nya kaum sumbu pendek       2"
      ]
     },
     "execution_count": 83,
     "metadata": {},
     "output_type": "execute_result"
    }
   ],
   "source": [
    "df_train.head()"
   ]
  },
  {
   "cell_type": "markdown",
   "id": "1c82de6c",
   "metadata": {},
   "source": [
    "convert to huggingface dataset"
   ]
  },
  {
   "cell_type": "code",
   "execution_count": 84,
   "id": "fdc037d7",
   "metadata": {},
   "outputs": [],
   "source": [
    "from datasets import Dataset"
   ]
  },
  {
   "cell_type": "code",
   "execution_count": 85,
   "id": "94a805c2",
   "metadata": {},
   "outputs": [],
   "source": [
    "train_dataset = Dataset.from_pandas(df_train)\n",
    "test_dataset = Dataset.from_pandas(df_test)"
   ]
  },
  {
   "cell_type": "markdown",
   "id": "6a91c0d3",
   "metadata": {},
   "source": [
    "## Tokenizer"
   ]
  },
  {
   "cell_type": "code",
   "execution_count": 86,
   "id": "8eaa9a0d",
   "metadata": {},
   "outputs": [],
   "source": [
    "def preprocess_text(data):\n",
    "    result =  tokenizer(data[\"chat\"],truncation=True, padding=\"max_length\", max_length=512)\n",
    "    result[\"labels\"] = data[\"labels\"]\n",
    "    return result"
   ]
  },
  {
   "cell_type": "code",
   "execution_count": 87,
   "id": "49fb0997",
   "metadata": {},
   "outputs": [
    {
     "name": "stderr",
     "output_type": "stream",
     "text": [
      "Map:   0%|          | 0/8561 [00:00<?, ? examples/s]"
     ]
    },
    {
     "name": "stderr",
     "output_type": "stream",
     "text": [
      "Map: 100%|██████████| 8561/8561 [00:02<00:00, 3929.69 examples/s]\n"
     ]
    }
   ],
   "source": [
    "tokenized_train = train_dataset.map(preprocess_text, batched=True)"
   ]
  },
  {
   "cell_type": "code",
   "execution_count": 88,
   "id": "c6686111",
   "metadata": {},
   "outputs": [
    {
     "name": "stderr",
     "output_type": "stream",
     "text": [
      "Map: 100%|██████████| 2141/2141 [00:00<00:00, 4164.74 examples/s]\n"
     ]
    }
   ],
   "source": [
    "tokenized_test = test_dataset.map(preprocess_text, batched=True)"
   ]
  },
  {
   "cell_type": "code",
   "execution_count": 89,
   "id": "c8c85392",
   "metadata": {},
   "outputs": [],
   "source": [
    "tokenized_train.set_format(\"torch\", columns=[\"input_ids\", \"attention_mask\", \"labels\"])\n",
    "tokenized_test.set_format(\"torch\", columns=[\"input_ids\", \"attention_mask\", \"labels\"])"
   ]
  },
  {
   "cell_type": "markdown",
   "id": "2cfa6fb9",
   "metadata": {},
   "source": [
    "## Training"
   ]
  },
  {
   "cell_type": "code",
   "execution_count": 90,
   "id": "14db38eb",
   "metadata": {},
   "outputs": [],
   "source": [
    "from transformers import DataCollatorWithPadding, TrainingArguments, Trainer"
   ]
  },
  {
   "cell_type": "code",
   "execution_count": 91,
   "id": "ee949e5b",
   "metadata": {},
   "outputs": [],
   "source": [
    "data_collator = DataCollatorWithPadding(tokenizer=tokenizer)"
   ]
  },
  {
   "cell_type": "code",
   "execution_count": 92,
   "id": "ce47229f",
   "metadata": {},
   "outputs": [],
   "source": [
    "import evaluate"
   ]
  },
  {
   "cell_type": "code",
   "execution_count": 93,
   "id": "5917e2c3",
   "metadata": {},
   "outputs": [],
   "source": [
    "metric = evaluate.load(\"accuracy\")\n",
    "\n",
    "def compute_metrics(eval_pred):\n",
    "    logits, labels = eval_pred\n",
    "    predictions = np.argmax(logits, axis=-1)\n",
    "    return metric.compute(predictions=predictions, references=labels)"
   ]
  },
  {
   "cell_type": "code",
   "execution_count": 94,
   "id": "b8bba9e8",
   "metadata": {},
   "outputs": [
    {
     "name": "stderr",
     "output_type": "stream",
     "text": [
      "C:\\Users\\Warge\\AppData\\Local\\Temp\\ipykernel_20832\\2964071433.py:12: FutureWarning: `tokenizer` is deprecated and will be removed in version 5.0.0 for `Trainer.__init__`. Use `processing_class` instead.\n",
      "  trainer = Trainer(\n"
     ]
    }
   ],
   "source": [
    "training_args = TrainingArguments(\n",
    "    output_dir=\"./results\",\n",
    "    learning_rate=2e-5,\n",
    "    per_device_train_batch_size=8,\n",
    "    per_device_eval_batch_size=8,\n",
    "    num_train_epochs=4,\n",
    "    weight_decay=0.01,\n",
    "    logging_strategy=\"epoch\",\n",
    "    report_to=\"none\",\n",
    ")\n",
    "\n",
    "trainer = Trainer(\n",
    "    model=model,\n",
    "    args=training_args,\n",
    "    train_dataset=tokenized_train,\n",
    "    eval_dataset=tokenized_test,\n",
    "    tokenizer=tokenizer,\n",
    "    data_collator=data_collator,\n",
    "    compute_metrics=compute_metrics\n",
    "\n",
    ")\n"
   ]
  },
  {
   "cell_type": "code",
   "execution_count": 95,
   "id": "5634f21a",
   "metadata": {},
   "outputs": [
    {
     "data": {
      "text/html": [
       "\n",
       "    <div>\n",
       "      \n",
       "      <progress value='4284' max='4284' style='width:300px; height:20px; vertical-align: middle;'></progress>\n",
       "      [4284/4284 1:12:46, Epoch 4/4]\n",
       "    </div>\n",
       "    <table border=\"1\" class=\"dataframe\">\n",
       "  <thead>\n",
       " <tr style=\"text-align: left;\">\n",
       "      <th>Step</th>\n",
       "      <th>Training Loss</th>\n",
       "    </tr>\n",
       "  </thead>\n",
       "  <tbody>\n",
       "    <tr>\n",
       "      <td>1071</td>\n",
       "      <td>0.931400</td>\n",
       "    </tr>\n",
       "    <tr>\n",
       "      <td>2142</td>\n",
       "      <td>0.545300</td>\n",
       "    </tr>\n",
       "    <tr>\n",
       "      <td>3213</td>\n",
       "      <td>0.384500</td>\n",
       "    </tr>\n",
       "    <tr>\n",
       "      <td>4284</td>\n",
       "      <td>0.298000</td>\n",
       "    </tr>\n",
       "  </tbody>\n",
       "</table><p>"
      ],
      "text/plain": [
       "<IPython.core.display.HTML object>"
      ]
     },
     "metadata": {},
     "output_type": "display_data"
    },
    {
     "data": {
      "text/plain": [
       "TrainOutput(global_step=4284, training_loss=0.5398218847679046, metrics={'train_runtime': 4366.6134, 'train_samples_per_second': 7.842, 'train_steps_per_second': 0.981, 'total_flos': 9010136773607424.0, 'train_loss': 0.5398218847679046, 'epoch': 4.0})"
      ]
     },
     "execution_count": 95,
     "metadata": {},
     "output_type": "execute_result"
    }
   ],
   "source": [
    "trainer.train()"
   ]
  },
  {
   "cell_type": "code",
   "execution_count": 96,
   "id": "8678c138",
   "metadata": {},
   "outputs": [],
   "source": [
    "trainer.save_model('filter_model')"
   ]
  },
  {
   "cell_type": "markdown",
   "id": "9e2d8f56",
   "metadata": {},
   "source": [
    "## Evaluation"
   ]
  },
  {
   "cell_type": "code",
   "execution_count": 97,
   "id": "ed7f5ea8",
   "metadata": {},
   "outputs": [],
   "source": [
    "from sklearn.metrics import classification_report"
   ]
  },
  {
   "cell_type": "code",
   "execution_count": 98,
   "id": "c81c1ce4",
   "metadata": {},
   "outputs": [
    {
     "data": {
      "text/html": [],
      "text/plain": [
       "<IPython.core.display.HTML object>"
      ]
     },
     "metadata": {},
     "output_type": "display_data"
    },
    {
     "name": "stdout",
     "output_type": "stream",
     "text": [
      "              precision    recall  f1-score   support\n",
      "\n",
      "           0       0.96      0.97      0.96      2013\n",
      "           1       0.97      0.91      0.94      2182\n",
      "           2       0.96      0.98      0.97      2011\n",
      "           3       0.93      0.95      0.94      2355\n",
      "\n",
      "    accuracy                           0.95      8561\n",
      "   macro avg       0.95      0.95      0.95      8561\n",
      "weighted avg       0.95      0.95      0.95      8561\n",
      "\n"
     ]
    }
   ],
   "source": [
    "preds = trainer.predict(tokenized_train)\n",
    "preds = np.argmax(preds[:3][0],axis=1)\n",
    "GT = df_train['labels'].tolist()\n",
    "print(classification_report(GT,preds))"
   ]
  },
  {
   "cell_type": "code",
   "execution_count": 99,
   "id": "89a69ef1",
   "metadata": {},
   "outputs": [
    {
     "data": {
      "text/html": [],
      "text/plain": [
       "<IPython.core.display.HTML object>"
      ]
     },
     "metadata": {},
     "output_type": "display_data"
    },
    {
     "name": "stdout",
     "output_type": "stream",
     "text": [
      "              precision    recall  f1-score   support\n",
      "\n",
      "           0       0.88      0.91      0.90       471\n",
      "           1       0.81      0.73      0.77       547\n",
      "           2       0.84      0.90      0.87       495\n",
      "           3       0.80      0.81      0.80       628\n",
      "\n",
      "    accuracy                           0.83      2141\n",
      "   macro avg       0.83      0.84      0.83      2141\n",
      "weighted avg       0.83      0.83      0.83      2141\n",
      "\n"
     ]
    }
   ],
   "source": [
    "preds = trainer.predict(tokenized_test)\n",
    "preds = np.argmax(preds[:3][0],axis=1)\n",
    "GT = df_test['labels'].tolist()\n",
    "print(classification_report(GT,preds))"
   ]
  },
  {
   "cell_type": "code",
   "execution_count": 100,
   "id": "74f696d9",
   "metadata": {},
   "outputs": [
    {
     "name": "stderr",
     "output_type": "stream",
     "text": [
      "Map: 100%|██████████| 10/10 [00:00<00:00, 571.38 examples/s]\n"
     ]
    },
    {
     "data": {
      "text/html": [],
      "text/plain": [
       "<IPython.core.display.HTML object>"
      ]
     },
     "metadata": {},
     "output_type": "display_data"
    },
    {
     "name": "stdout",
     "output_type": "stream",
     "text": [
      "Chat: main mu kek tai cok\n",
      "Predicted Label: violence\n",
      "\n",
      "Chat: user telat ngasih tau elu edan sarap gue bergaul elu\n",
      "Predicted Label: violence\n",
      "\n",
      "Chat: kadang berfikir percaya tuhan jatuh berkalikali kadang tuhan ninggalkan orangtuaku berencana berpisah kakakku memilih kristen\n",
      "Predicted Label: neutral\n",
      "\n",
      "Chat: user user aku\\n\\nku tau matamu sipit diliat\n",
      "Predicted Label: racist\n",
      "\n",
      "Chat: capek deh ketemu kaum cina kapir gini match\n",
      "Predicted Label: racist\n",
      "\n",
      "Chat: skill cacad ngide jungler cok\n",
      "Predicted Label: violence\n",
      "\n",
      "Chat: gg main lo keren bro\n",
      "Predicted Label: neutral\n",
      "\n",
      "Chat: gue aja kelar rewatch aldnoah zero kampret emang endingnya 2 karakter utama cowonya kena friendzone bray xd url\n",
      "Predicted Label: neutral\n",
      "\n",
      "Chat: admin belanja port terbaik nak makan ai kepal milo ai kepal horlicks cendol toping kaw doket mano tu\n",
      "Predicted Label: violence\n",
      "\n",
      "Chat: user enak lg klo smbil ngewe\n",
      "Predicted Label: harassment\n",
      "\n"
     ]
    }
   ],
   "source": [
    "sample_dataset = dataset[:10]\n",
    "hugg_sample = Dataset.from_pandas(sample_dataset)\n",
    "tokenized_sample = hugg_sample.map(preprocess_text, batched=True)\n",
    "predictions = trainer.predict(tokenized_sample)\n",
    "predictions = np.argmax(predictions[0], axis=1)\n",
    "for i, pred in enumerate(predictions):\n",
    "    print(f\"Chat: {sample_dataset['chat'].iloc[i]}\")\n",
    "    print(f\"Predicted Label: {le.inverse_transform([pred])[0]}\")\n",
    "    print()"
   ]
  },
  {
   "cell_type": "code",
   "execution_count": null,
   "id": "8bf93032",
   "metadata": {},
   "outputs": [],
   "source": []
  }
 ],
 "metadata": {
  "kernelspec": {
   "display_name": "Python 3",
   "language": "python",
   "name": "python3"
  },
  "language_info": {
   "codemirror_mode": {
    "name": "ipython",
    "version": 3
   },
   "file_extension": ".py",
   "mimetype": "text/x-python",
   "name": "python",
   "nbconvert_exporter": "python",
   "pygments_lexer": "ipython3",
   "version": "3.12.8"
  }
 },
 "nbformat": 4,
 "nbformat_minor": 5
}
