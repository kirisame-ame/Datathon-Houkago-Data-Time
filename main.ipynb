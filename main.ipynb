{
 "cells": [
  {
   "cell_type": "markdown",
   "id": "1dc9af39",
   "metadata": {},
   "source": [
    "# Notebook"
   ]
  },
  {
   "cell_type": "code",
   "execution_count": 139,
   "id": "f0c57028",
   "metadata": {},
   "outputs": [],
   "source": [
    "import pandas as pd\n",
    "import numpy as np\n",
    "import os\n",
    "import re"
   ]
  },
  {
   "cell_type": "markdown",
   "id": "a98bdc30",
   "metadata": {},
   "source": [
    "## Data import"
   ]
  },
  {
   "cell_type": "code",
   "execution_count": 140,
   "id": "60782345",
   "metadata": {},
   "outputs": [],
   "source": [
    "dataset = pd.read_csv('indonesian_chat.csv')"
   ]
  },
  {
   "cell_type": "code",
   "execution_count": 141,
   "id": "87cfd510",
   "metadata": {},
   "outputs": [
    {
     "data": {
      "application/vnd.microsoft.datawrangler.viewer.v0+json": {
       "columns": [
        {
         "name": "index",
         "rawType": "int64",
         "type": "integer"
        },
        {
         "name": "id",
         "rawType": "int64",
         "type": "integer"
        },
        {
         "name": "chat",
         "rawType": "object",
         "type": "string"
        },
        {
         "name": "label",
         "rawType": "object",
         "type": "string"
        }
       ],
       "ref": "7451f104-8683-4814-979d-09c40612ed32",
       "rows": [
        [
         "0",
         "1",
         "main mu kek tai cok",
         "violence"
        ],
        [
         "1",
         "2",
         "user telat ngasih tau elu edan sarap gue bergaul elu",
         "violence"
        ],
        [
         "2",
         "3",
         "kadang berfikir percaya tuhan jatuh berkalikali kadang tuhan ninggalkan orangtuaku berencana berpisah kakakku memilih kristen",
         "neutral"
        ],
        [
         "3",
         "4",
         "user user aku\\n\\nku tau matamu sipit diliat",
         "racist"
        ],
        [
         "4",
         "5",
         "capek deh ketemu kaum cina kapir gini match",
         "racist"
        ]
       ],
       "shape": {
        "columns": 3,
        "rows": 5
       }
      },
      "text/html": [
       "<div>\n",
       "<style scoped>\n",
       "    .dataframe tbody tr th:only-of-type {\n",
       "        vertical-align: middle;\n",
       "    }\n",
       "\n",
       "    .dataframe tbody tr th {\n",
       "        vertical-align: top;\n",
       "    }\n",
       "\n",
       "    .dataframe thead th {\n",
       "        text-align: right;\n",
       "    }\n",
       "</style>\n",
       "<table border=\"1\" class=\"dataframe\">\n",
       "  <thead>\n",
       "    <tr style=\"text-align: right;\">\n",
       "      <th></th>\n",
       "      <th>id</th>\n",
       "      <th>chat</th>\n",
       "      <th>label</th>\n",
       "    </tr>\n",
       "  </thead>\n",
       "  <tbody>\n",
       "    <tr>\n",
       "      <th>0</th>\n",
       "      <td>1</td>\n",
       "      <td>main mu kek tai cok</td>\n",
       "      <td>violence</td>\n",
       "    </tr>\n",
       "    <tr>\n",
       "      <th>1</th>\n",
       "      <td>2</td>\n",
       "      <td>user telat ngasih tau elu edan sarap gue berga...</td>\n",
       "      <td>violence</td>\n",
       "    </tr>\n",
       "    <tr>\n",
       "      <th>2</th>\n",
       "      <td>3</td>\n",
       "      <td>kadang berfikir percaya tuhan jatuh berkalikal...</td>\n",
       "      <td>neutral</td>\n",
       "    </tr>\n",
       "    <tr>\n",
       "      <th>3</th>\n",
       "      <td>4</td>\n",
       "      <td>user user aku\\n\\nku tau matamu sipit diliat</td>\n",
       "      <td>racist</td>\n",
       "    </tr>\n",
       "    <tr>\n",
       "      <th>4</th>\n",
       "      <td>5</td>\n",
       "      <td>capek deh ketemu kaum cina kapir gini match</td>\n",
       "      <td>racist</td>\n",
       "    </tr>\n",
       "  </tbody>\n",
       "</table>\n",
       "</div>"
      ],
      "text/plain": [
       "   id                                               chat     label\n",
       "0   1                                main mu kek tai cok  violence\n",
       "1   2  user telat ngasih tau elu edan sarap gue berga...  violence\n",
       "2   3  kadang berfikir percaya tuhan jatuh berkalikal...   neutral\n",
       "3   4        user user aku\\n\\nku tau matamu sipit diliat    racist\n",
       "4   5        capek deh ketemu kaum cina kapir gini match    racist"
      ]
     },
     "execution_count": 141,
     "metadata": {},
     "output_type": "execute_result"
    }
   ],
   "source": [
    "dataset.head()"
   ]
  },
  {
   "cell_type": "code",
   "execution_count": 142,
   "id": "019fb1a7",
   "metadata": {},
   "outputs": [
    {
     "name": "stdout",
     "output_type": "stream",
     "text": [
      "<class 'pandas.core.frame.DataFrame'>\n",
      "RangeIndex: 10702 entries, 0 to 10701\n",
      "Data columns (total 3 columns):\n",
      " #   Column  Non-Null Count  Dtype \n",
      "---  ------  --------------  ----- \n",
      " 0   id      10702 non-null  int64 \n",
      " 1   chat    10702 non-null  object\n",
      " 2   label   10702 non-null  object\n",
      "dtypes: int64(1), object(2)\n",
      "memory usage: 251.0+ KB\n"
     ]
    }
   ],
   "source": [
    "dataset.info()"
   ]
  },
  {
   "cell_type": "markdown",
   "id": "155d5b2d",
   "metadata": {},
   "source": [
    "## Data Cleaning (WIP)"
   ]
  },
  {
   "cell_type": "code",
   "execution_count": 143,
   "id": "142dda5b",
   "metadata": {},
   "outputs": [],
   "source": [
    "dataset.drop(\"id\", axis=1, inplace=True)"
   ]
  },
  {
   "cell_type": "markdown",
   "id": "7ee45af5",
   "metadata": {},
   "source": [
    "remove \\n and \\x__ from chat"
   ]
  },
  {
   "cell_type": "code",
   "execution_count": 144,
   "id": "5eccbd09",
   "metadata": {},
   "outputs": [],
   "source": [
    "dataset[\"chat\"] = dataset[\"chat\"].str.replace(r\"\\\\n\", \"\", regex=True)\n",
    "dataset[\"chat\"] = dataset[\"chat\"].str.replace(r\"\\\\x[0-9a-fA-F]{2}\", \"\", regex=True)"
   ]
  },
  {
   "cell_type": "markdown",
   "id": "41d2b3ae",
   "metadata": {},
   "source": [
    "kata \"user\" juga sering muncul tanpa arti yang jelas, mungkin pada awalnya merepresentasikan username orang yang dituju, sehingga di-drop karena kami anggap noise"
   ]
  },
  {
   "cell_type": "code",
   "execution_count": 145,
   "id": "a50661b5",
   "metadata": {},
   "outputs": [],
   "source": [
    "dataset[\"chat\"] = dataset[\"chat\"].str.replace(\"user\", \"\", regex=False)"
   ]
  },
  {
   "cell_type": "markdown",
   "id": "dc996261",
   "metadata": {},
   "source": [
    "# Label Encode Target"
   ]
  },
  {
   "cell_type": "code",
   "execution_count": 146,
   "id": "25178f1a",
   "metadata": {},
   "outputs": [],
   "source": [
    "from sklearn.preprocessing import LabelEncoder"
   ]
  },
  {
   "cell_type": "code",
   "execution_count": 147,
   "id": "c721973f",
   "metadata": {},
   "outputs": [],
   "source": [
    "le = LabelEncoder()\n",
    "dataset['labels'] = le.fit_transform(dataset['label'])\n",
    "dataset.drop(\"label\", axis=1, inplace=True)"
   ]
  },
  {
   "cell_type": "markdown",
   "id": "2db8a696",
   "metadata": {},
   "source": [
    "regex stuff"
   ]
  },
  {
   "cell_type": "markdown",
   "id": "6f68d4d6",
   "metadata": {},
   "source": [
    "## BERT Import"
   ]
  },
  {
   "cell_type": "code",
   "execution_count": 148,
   "id": "da663617",
   "metadata": {},
   "outputs": [],
   "source": [
    "from transformers import AutoTokenizer, AutoModelForSequenceClassification"
   ]
  },
  {
   "cell_type": "code",
   "execution_count": 149,
   "id": "c9164c58",
   "metadata": {},
   "outputs": [
    {
     "name": "stderr",
     "output_type": "stream",
     "text": [
      "Some weights of BertForSequenceClassification were not initialized from the model checkpoint at indolem/indobert-base-uncased and are newly initialized: ['classifier.bias', 'classifier.weight']\n",
      "You should probably TRAIN this model on a down-stream task to be able to use it for predictions and inference.\n"
     ]
    }
   ],
   "source": [
    "tokenizer = AutoTokenizer.from_pretrained(\"indolem/indobert-base-uncased\")\n",
    "model = AutoModelForSequenceClassification.from_pretrained(\"indolem/indobert-base-uncased\",num_labels=len(le.classes_))  # Number of unique labels"
   ]
  },
  {
   "cell_type": "markdown",
   "id": "913856d6",
   "metadata": {},
   "source": [
    "## Preproc"
   ]
  },
  {
   "cell_type": "code",
   "execution_count": 150,
   "id": "1ee8d736",
   "metadata": {},
   "outputs": [],
   "source": [
    "from sklearn.model_selection import train_test_split"
   ]
  },
  {
   "cell_type": "code",
   "execution_count": 151,
   "id": "9581ab19",
   "metadata": {},
   "outputs": [],
   "source": [
    "df_train, df_test = train_test_split(dataset, test_size=0.2, random_state=42)"
   ]
  },
  {
   "cell_type": "code",
   "execution_count": 152,
   "id": "f3f4f661",
   "metadata": {},
   "outputs": [
    {
     "data": {
      "text/plain": [
       "(17122, 4282)"
      ]
     },
     "execution_count": 152,
     "metadata": {},
     "output_type": "execute_result"
    }
   ],
   "source": [
    "df_train.size, df_test.size"
   ]
  },
  {
   "cell_type": "code",
   "execution_count": 153,
   "id": "00966a67",
   "metadata": {},
   "outputs": [
    {
     "data": {
      "application/vnd.microsoft.datawrangler.viewer.v0+json": {
       "columns": [
        {
         "name": "index",
         "rawType": "int64",
         "type": "integer"
        },
        {
         "name": "chat",
         "rawType": "object",
         "type": "string"
        },
        {
         "name": "labels",
         "rawType": "int32",
         "type": "integer"
        }
       ],
       "ref": "c23eed5c-055d-4669-9d8d-55647b684b8f",
       "rows": [
        [
         "2312",
         "15 terimakasih selamat jalan ila jiwari robbihimul ala jalla wa alaa ra lilur ulama cinta dunia bahaya bahaya dawuh beliau dawuh2 yg kadang pelajaran berharga lahul fatihah ð¥ð¥ð¥",
         "1"
        ],
        [
         "2516",
         "askmf sedih gaksi orang2 ngeledekin doi gitu najis bocah",
         "3"
        ],
        [
         "3467",
         "ape beneeeer dapet jadwal shift pagi 4 besok off lusa shift malam sabtu badan cungkring ampuuuun zzzzzz",
         "1"
        ],
        [
         "8573",
         "pantes yatim gak ngewe bareng loe",
         "0"
        ],
        [
         "9814",
         "congor nya kaum sumbu pendek",
         "2"
        ]
       ],
       "shape": {
        "columns": 2,
        "rows": 5
       }
      },
      "text/html": [
       "<div>\n",
       "<style scoped>\n",
       "    .dataframe tbody tr th:only-of-type {\n",
       "        vertical-align: middle;\n",
       "    }\n",
       "\n",
       "    .dataframe tbody tr th {\n",
       "        vertical-align: top;\n",
       "    }\n",
       "\n",
       "    .dataframe thead th {\n",
       "        text-align: right;\n",
       "    }\n",
       "</style>\n",
       "<table border=\"1\" class=\"dataframe\">\n",
       "  <thead>\n",
       "    <tr style=\"text-align: right;\">\n",
       "      <th></th>\n",
       "      <th>chat</th>\n",
       "      <th>labels</th>\n",
       "    </tr>\n",
       "  </thead>\n",
       "  <tbody>\n",
       "    <tr>\n",
       "      <th>2312</th>\n",
       "      <td>15 terimakasih selamat jalan ila jiwari robbih...</td>\n",
       "      <td>1</td>\n",
       "    </tr>\n",
       "    <tr>\n",
       "      <th>2516</th>\n",
       "      <td>askmf sedih gaksi orang2 ngeledekin doi gitu n...</td>\n",
       "      <td>3</td>\n",
       "    </tr>\n",
       "    <tr>\n",
       "      <th>3467</th>\n",
       "      <td>ape beneeeer dapet jadwal shift pagi 4 besok o...</td>\n",
       "      <td>1</td>\n",
       "    </tr>\n",
       "    <tr>\n",
       "      <th>8573</th>\n",
       "      <td>pantes yatim gak ngewe bareng loe</td>\n",
       "      <td>0</td>\n",
       "    </tr>\n",
       "    <tr>\n",
       "      <th>9814</th>\n",
       "      <td>congor nya kaum sumbu pendek</td>\n",
       "      <td>2</td>\n",
       "    </tr>\n",
       "  </tbody>\n",
       "</table>\n",
       "</div>"
      ],
      "text/plain": [
       "                                                   chat  labels\n",
       "2312  15 terimakasih selamat jalan ila jiwari robbih...       1\n",
       "2516  askmf sedih gaksi orang2 ngeledekin doi gitu n...       3\n",
       "3467  ape beneeeer dapet jadwal shift pagi 4 besok o...       1\n",
       "8573                  pantes yatim gak ngewe bareng loe       0\n",
       "9814                       congor nya kaum sumbu pendek       2"
      ]
     },
     "execution_count": 153,
     "metadata": {},
     "output_type": "execute_result"
    }
   ],
   "source": [
    "df_train.head()"
   ]
  },
  {
   "cell_type": "markdown",
   "id": "1c82de6c",
   "metadata": {},
   "source": [
    "convert to huggingface dataset"
   ]
  },
  {
   "cell_type": "code",
   "execution_count": 154,
   "id": "fdc037d7",
   "metadata": {},
   "outputs": [],
   "source": [
    "from datasets import Dataset"
   ]
  },
  {
   "cell_type": "code",
   "execution_count": 155,
   "id": "94a805c2",
   "metadata": {},
   "outputs": [],
   "source": [
    "train_dataset = Dataset.from_pandas(df_train)\n",
    "test_dataset = Dataset.from_pandas(df_test)"
   ]
  },
  {
   "cell_type": "markdown",
   "id": "6a91c0d3",
   "metadata": {},
   "source": [
    "## Tokenizer"
   ]
  },
  {
   "cell_type": "code",
   "execution_count": 172,
   "id": "8eaa9a0d",
   "metadata": {},
   "outputs": [],
   "source": [
    "def preprocess_text(data, is_train=True):\n",
    "    result =  tokenizer(data[\"chat\"],truncation=True, padding=\"max_length\", max_length=512)\n",
    "    if is_train:\n",
    "        result[\"labels\"] = data[\"labels\"]\n",
    "    return result"
   ]
  },
  {
   "cell_type": "code",
   "execution_count": 157,
   "id": "49fb0997",
   "metadata": {},
   "outputs": [
    {
     "name": "stderr",
     "output_type": "stream",
     "text": [
      "Map:   0%|          | 0/8561 [00:00<?, ? examples/s]"
     ]
    },
    {
     "name": "stderr",
     "output_type": "stream",
     "text": [
      "Map: 100%|██████████| 8561/8561 [00:02<00:00, 3812.35 examples/s]\n"
     ]
    }
   ],
   "source": [
    "tokenized_train = train_dataset.map(preprocess_text, batched=True)"
   ]
  },
  {
   "cell_type": "code",
   "execution_count": 158,
   "id": "c6686111",
   "metadata": {},
   "outputs": [
    {
     "name": "stderr",
     "output_type": "stream",
     "text": [
      "Map: 100%|██████████| 2141/2141 [00:00<00:00, 4050.29 examples/s]\n"
     ]
    }
   ],
   "source": [
    "tokenized_test = test_dataset.map(preprocess_text, batched=True)"
   ]
  },
  {
   "cell_type": "code",
   "execution_count": 159,
   "id": "c8c85392",
   "metadata": {},
   "outputs": [],
   "source": [
    "tokenized_train.set_format(\"torch\", columns=[\"input_ids\", \"attention_mask\", \"labels\"])\n",
    "tokenized_test.set_format(\"torch\", columns=[\"input_ids\", \"attention_mask\", \"labels\"])"
   ]
  },
  {
   "cell_type": "markdown",
   "id": "2cfa6fb9",
   "metadata": {},
   "source": [
    "## Training"
   ]
  },
  {
   "cell_type": "code",
   "execution_count": 160,
   "id": "14db38eb",
   "metadata": {},
   "outputs": [],
   "source": [
    "from transformers import DataCollatorWithPadding, TrainingArguments, Trainer"
   ]
  },
  {
   "cell_type": "code",
   "execution_count": 161,
   "id": "ee949e5b",
   "metadata": {},
   "outputs": [],
   "source": [
    "data_collator = DataCollatorWithPadding(tokenizer=tokenizer)"
   ]
  },
  {
   "cell_type": "code",
   "execution_count": 162,
   "id": "ce47229f",
   "metadata": {},
   "outputs": [],
   "source": [
    "import evaluate"
   ]
  },
  {
   "cell_type": "code",
   "execution_count": 163,
   "id": "5917e2c3",
   "metadata": {},
   "outputs": [],
   "source": [
    "metric = evaluate.load(\"accuracy\")\n",
    "\n",
    "def compute_metrics(eval_pred):\n",
    "    logits, labels = eval_pred\n",
    "    predictions = np.argmax(logits, axis=-1)\n",
    "    return metric.compute(predictions=predictions, references=labels)"
   ]
  },
  {
   "cell_type": "code",
   "execution_count": 164,
   "id": "b8bba9e8",
   "metadata": {},
   "outputs": [
    {
     "name": "stderr",
     "output_type": "stream",
     "text": [
      "C:\\Users\\Warge\\AppData\\Local\\Temp\\ipykernel_20832\\2964071433.py:12: FutureWarning: `tokenizer` is deprecated and will be removed in version 5.0.0 for `Trainer.__init__`. Use `processing_class` instead.\n",
      "  trainer = Trainer(\n"
     ]
    }
   ],
   "source": [
    "training_args = TrainingArguments(\n",
    "    output_dir=\"./results\",\n",
    "    learning_rate=2e-5,\n",
    "    per_device_train_batch_size=8,\n",
    "    per_device_eval_batch_size=8,\n",
    "    num_train_epochs=4,\n",
    "    weight_decay=0.01,\n",
    "    logging_strategy=\"epoch\",\n",
    "    report_to=\"none\",\n",
    ")\n",
    "\n",
    "trainer = Trainer(\n",
    "    model=model,\n",
    "    args=training_args,\n",
    "    train_dataset=tokenized_train,\n",
    "    eval_dataset=tokenized_test,\n",
    "    tokenizer=tokenizer,\n",
    "    data_collator=data_collator,\n",
    "    compute_metrics=compute_metrics\n",
    "\n",
    ")\n"
   ]
  },
  {
   "cell_type": "code",
   "execution_count": 165,
   "id": "5634f21a",
   "metadata": {},
   "outputs": [
    {
     "data": {
      "text/html": [
       "\n",
       "    <div>\n",
       "      \n",
       "      <progress value='4284' max='4284' style='width:300px; height:20px; vertical-align: middle;'></progress>\n",
       "      [4284/4284 1:45:26, Epoch 4/4]\n",
       "    </div>\n",
       "    <table border=\"1\" class=\"dataframe\">\n",
       "  <thead>\n",
       " <tr style=\"text-align: left;\">\n",
       "      <th>Step</th>\n",
       "      <th>Training Loss</th>\n",
       "    </tr>\n",
       "  </thead>\n",
       "  <tbody>\n",
       "    <tr>\n",
       "      <td>1071</td>\n",
       "      <td>0.922900</td>\n",
       "    </tr>\n",
       "    <tr>\n",
       "      <td>2142</td>\n",
       "      <td>0.528200</td>\n",
       "    </tr>\n",
       "    <tr>\n",
       "      <td>3213</td>\n",
       "      <td>0.382200</td>\n",
       "    </tr>\n",
       "    <tr>\n",
       "      <td>4284</td>\n",
       "      <td>0.281600</td>\n",
       "    </tr>\n",
       "  </tbody>\n",
       "</table><p>"
      ],
      "text/plain": [
       "<IPython.core.display.HTML object>"
      ]
     },
     "metadata": {},
     "output_type": "display_data"
    },
    {
     "data": {
      "text/plain": [
       "TrainOutput(global_step=4284, training_loss=0.528735170622611, metrics={'train_runtime': 6327.1708, 'train_samples_per_second': 5.412, 'train_steps_per_second': 0.677, 'total_flos': 9010136773607424.0, 'train_loss': 0.528735170622611, 'epoch': 4.0})"
      ]
     },
     "execution_count": 165,
     "metadata": {},
     "output_type": "execute_result"
    }
   ],
   "source": [
    "trainer.train()"
   ]
  },
  {
   "cell_type": "code",
   "execution_count": 166,
   "id": "8678c138",
   "metadata": {},
   "outputs": [],
   "source": [
    "trainer.save_model('filter_model')"
   ]
  },
  {
   "cell_type": "markdown",
   "id": "9e2d8f56",
   "metadata": {},
   "source": [
    "## Evaluation"
   ]
  },
  {
   "cell_type": "code",
   "execution_count": 178,
   "id": "d56629e9",
   "metadata": {},
   "outputs": [
    {
     "name": "stdout",
     "output_type": "stream",
     "text": [
      "0: harassment\n",
      "1: neutral\n",
      "2: racist\n",
      "3: violence\n"
     ]
    }
   ],
   "source": [
    "for idx, class_name in enumerate(le.classes_):\n",
    "    print(f\"{idx}: {class_name}\")"
   ]
  },
  {
   "cell_type": "code",
   "execution_count": 167,
   "id": "ed7f5ea8",
   "metadata": {},
   "outputs": [],
   "source": [
    "from sklearn.metrics import classification_report"
   ]
  },
  {
   "cell_type": "code",
   "execution_count": 168,
   "id": "c81c1ce4",
   "metadata": {},
   "outputs": [
    {
     "data": {
      "text/html": [],
      "text/plain": [
       "<IPython.core.display.HTML object>"
      ]
     },
     "metadata": {},
     "output_type": "display_data"
    },
    {
     "name": "stdout",
     "output_type": "stream",
     "text": [
      "              precision    recall  f1-score   support\n",
      "\n",
      "           0       0.96      0.98      0.97      2013\n",
      "           1       0.97      0.91      0.94      2182\n",
      "           2       0.97      0.98      0.97      2011\n",
      "           3       0.93      0.96      0.94      2355\n",
      "\n",
      "    accuracy                           0.96      8561\n",
      "   macro avg       0.96      0.96      0.96      8561\n",
      "weighted avg       0.96      0.96      0.96      8561\n",
      "\n"
     ]
    }
   ],
   "source": [
    "preds = trainer.predict(tokenized_train)\n",
    "preds = np.argmax(preds[:3][0],axis=1)\n",
    "GT = df_train['labels'].tolist()\n",
    "print(classification_report(GT,preds))"
   ]
  },
  {
   "cell_type": "code",
   "execution_count": 169,
   "id": "89a69ef1",
   "metadata": {},
   "outputs": [
    {
     "data": {
      "text/html": [],
      "text/plain": [
       "<IPython.core.display.HTML object>"
      ]
     },
     "metadata": {},
     "output_type": "display_data"
    },
    {
     "name": "stdout",
     "output_type": "stream",
     "text": [
      "              precision    recall  f1-score   support\n",
      "\n",
      "           0       0.87      0.91      0.89       471\n",
      "           1       0.81      0.75      0.78       547\n",
      "           2       0.85      0.90      0.88       495\n",
      "           3       0.81      0.81      0.81       628\n",
      "\n",
      "    accuracy                           0.84      2141\n",
      "   macro avg       0.84      0.84      0.84      2141\n",
      "weighted avg       0.83      0.84      0.83      2141\n",
      "\n"
     ]
    }
   ],
   "source": [
    "preds = trainer.predict(tokenized_test)\n",
    "preds = np.argmax(preds[:3][0],axis=1)\n",
    "GT = df_test['labels'].tolist()\n",
    "print(classification_report(GT,preds))"
   ]
  },
  {
   "cell_type": "code",
   "execution_count": 175,
   "id": "8bf93032",
   "metadata": {},
   "outputs": [
    {
     "name": "stderr",
     "output_type": "stream",
     "text": [
      "Map: 100%|██████████| 4/4 [00:00<00:00, 613.18 examples/s]\n"
     ]
    },
    {
     "data": {
      "text/html": [],
      "text/plain": [
       "<IPython.core.display.HTML object>"
      ]
     },
     "metadata": {},
     "output_type": "display_data"
    },
    {
     "name": "stdout",
     "output_type": "stream",
     "text": [
      "Chat: ini adalah contoh chat yang baik\n",
      "Predicted Label: neutral\n",
      "\n",
      "Chat: woy goblok banget jadi orang\n",
      "Predicted Label: violence\n",
      "\n",
      "Chat: ngntot lu\n",
      "Predicted Label: harassment\n",
      "\n",
      "Chat: iya deh yang sipit diem aj deh\n",
      "Predicted Label: racist\n",
      "\n"
     ]
    }
   ],
   "source": [
    "test_sentences = [\"ini adalah contoh chat yang baik\",\n",
    "                  \"woy goblok banget jadi orang\",\n",
    "                  \"ngntot lu\",\n",
    "                  \"iya deh yang sipit diem aj deh\"]\n",
    "custom_dataset = pd.DataFrame(test_sentences, columns=[\"chat\"])\n",
    "custom_hugg_sample = Dataset.from_pandas(custom_dataset)\n",
    "custom_tokenized_sample = custom_hugg_sample.map(lambda data: preprocess_text(data, is_train=False), batched=True)\n",
    "predictions = trainer.predict(custom_tokenized_sample)\n",
    "predictions = np.argmax(predictions[0], axis=1)\n",
    "for i, pred in enumerate(predictions):\n",
    "    print(f\"Chat: {test_sentences[i]}\")\n",
    "    print(f\"Predicted Label: {le.inverse_transform([pred])[0]}\")\n",
    "    print()"
   ]
  }
 ],
 "metadata": {
  "kernelspec": {
   "display_name": "Python 3",
   "language": "python",
   "name": "python3"
  },
  "language_info": {
   "codemirror_mode": {
    "name": "ipython",
    "version": 3
   },
   "file_extension": ".py",
   "mimetype": "text/x-python",
   "name": "python",
   "nbconvert_exporter": "python",
   "pygments_lexer": "ipython3",
   "version": "3.12.8"
  }
 },
 "nbformat": 4,
 "nbformat_minor": 5
}
